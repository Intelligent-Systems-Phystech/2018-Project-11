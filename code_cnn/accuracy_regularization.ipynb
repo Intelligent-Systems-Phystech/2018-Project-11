{
 "cells": [
  {
   "cell_type": "code",
   "execution_count": 21,
   "metadata": {},
   "outputs": [
    {
     "data": {
      "text/plain": [
       "_StoreAction(option_strings=['--arch'], dest='arch', nargs=None, const=None, default='DARTS', type=<class 'str'>, choices=None, help='which architecture to use', metavar=None)"
      ]
     },
     "execution_count": 21,
     "metadata": {},
     "output_type": "execute_result"
    }
   ],
   "source": [
    "import os\n",
    "import sys\n",
    "import time\n",
    "import glob\n",
    "import numpy as np\n",
    "import torch\n",
    "import utils\n",
    "import logging\n",
    "import argparse\n",
    "import genotypes\n",
    "import torch.nn as nn\n",
    "import torch.utils\n",
    "import torch.nn.functional as F\n",
    "import torchvision.datasets as dset\n",
    "import torch.backends.cudnn as cudnn\n",
    "\n",
    "from torch.autograd import Variable\n",
    "from model_search import Network\n",
    "from architect import Architect\n",
    "from regularization import CrossEntropyLoss_GumbelSoftmaxRegularization, CrossEntropyLoss_DirichletRegularization\n",
    "\n",
    "import numpy as np\n",
    "import re\n",
    "\n",
    "parser = argparse.ArgumentParser(\"cifar\")\n",
    "parser.add_argument('--data', type=str, default='../data', help='location of the data corpus')\n",
    "parser.add_argument('--batch_size', type=int, default=64, help='batch size')\n",
    "parser.add_argument('--auxiliary', action='store_true', default=False, help='use auxiliary tower')\n",
    "parser.add_argument('--learning_rate', type=float, default=0.025, help='init learning rate')\n",
    "parser.add_argument('--learning_rate_min', type=float, default=0.001, help='min learning rate')\n",
    "parser.add_argument('--momentum', type=float, default=0.9, help='momentum')\n",
    "parser.add_argument('--weight_decay', type=float, default=3e-4, help='weight decay')\n",
    "parser.add_argument('--report_freq', type=float, default=50, help='report frequency')\n",
    "parser.add_argument('--gpu', type=int, default=0, help='gpu device id')\n",
    "parser.add_argument('--epochs', type=int, default=50, help='num of training epochs')\n",
    "parser.add_argument('--init_channels', type=int, default=16, help='num of init channels')\n",
    "parser.add_argument('--layers', type=int, default=8, help='total number of layers')\n",
    "parser.add_argument('--model_path', type=str, default='saved_models', help='path to save the model')\n",
    "parser.add_argument('--cutout', action='store_true', default=False, help='use cutout')\n",
    "parser.add_argument('--cutout_length', type=int, default=16, help='cutout length')\n",
    "parser.add_argument('--drop_path_prob', type=float, default=0.3, help='drop path probability')\n",
    "parser.add_argument('--save', type=str, default='EXP', help='experiment name')\n",
    "parser.add_argument('--seed', type=int, default=2, help='random seed')\n",
    "parser.add_argument('--grad_clip', type=float, default=5, help='gradient clipping')\n",
    "parser.add_argument('--train_portion', type=float, default=0.5, help='portion of training data')\n",
    "parser.add_argument('--unrolled', action='store_true', default=False, help='use one-step unrolled validation loss')\n",
    "parser.add_argument('--arch_learning_rate', type=float, default=3e-4, help='learning rate for arch encoding')\n",
    "parser.add_argument('--arch_weight_decay', type=float, default=1e-3, help='weight decay for arch encoding')\n",
    "parser.add_argument('--regularize_type', type=str, default=\"\", help='gumbal or dirichelt aprior distribution')\n",
    "parser.add_argument('--load_model_path', type=str, default=\"\", help='load model from path')\n",
    "parser.add_argument('--log_path', type=str, default=\"\", help='path to log')\n",
    "parser.add_argument('--arch', type=str, default='DARTS', help='which architecture to use')\n"
   ]
  },
  {
   "cell_type": "code",
   "execution_count": 56,
   "metadata": {},
   "outputs": [],
   "source": [
    "model_paths = ['./experiments/exp_strong2/', \n",
    "               './experiments/exp_weak2/',\n",
    "               './experiments/exp_var2/']\n",
    "\n",
    "exps = ['strong', 'weak', 'variable']\n",
    "\n",
    "launch_str = \"python3 check_noise.py --init_channels=5 --layers=3 --epochs=10 --unrolled \\\n",
    "--log_path=experiments/ --auxiliary\"\n",
    "launch_str = launch_str.split()[2:]\n",
    "\n",
    "CIFAR_CLASSES = 10"
   ]
  },
  {
   "cell_type": "code",
   "execution_count": null,
   "metadata": {},
   "outputs": [],
   "source": [
    "args = parser.parse_args(launch_str)    \n",
    "    \n",
    "if (args.log_path == \"\"):\n",
    "    logging.info('set log path')\n",
    "    sys.exit(1)\n",
    "    \n",
    "if(not os.path.exists(args.log_path)):\n",
    "    os.makedirs(args.log_path)\n",
    "    \n",
    "args.save = 'search-{}-{}'.format(args.save, time.strftime(\"%Y%m%d-%H%M%S\"))\n",
    "utils.create_exp_dir(os.path.join(args.log_path, args.save), scripts_to_save=glob.glob('*.py'))\n",
    "\n",
    "log_format = '%(asctime)s %(message)s'\n",
    "logging.basicConfig(stream=sys.stdout, level=logging.INFO, format=log_format, datefmt='%m/%d %I:%M:%S %p')\n",
    "fh = logging.FileHandler(os.path.join(args.log_path, args.save, 'log.txt'))\n",
    "fh.setFormatter(logging.Formatter(log_format))\n",
    "logging.getLogger().addHandler(fh)"
   ]
  },
  {
   "cell_type": "code",
   "execution_count": 23,
   "metadata": {},
   "outputs": [],
   "source": [
    "def create_model(path_to_model):\n",
    "    alphas = np.load(path_to_model+'/alphas.npy')\n",
    "    criterion = nn.CrossEntropyLoss()\n",
    "    criterion = criterion.cuda()\n",
    "    model = Network(5, CIFAR_CLASSES, 3, criterion, \n",
    "                    1.0, 1.0, _alphas = [alphas[0], alphas[1]] )\n",
    "    model = model.cuda()\n",
    "    utils.load(model, path_to_model+'/weights.pt')\n",
    "    return model, criterion\n",
    "\n",
    "def prepare():\n",
    "    #TODO isn't it crazy for just a length?)\n",
    "    train_transform, _ = utils._data_transforms_cifar10(args)\n",
    "    train_data = dset.CIFAR10(root=args.data, train=True, download=True, transform=train_transform)\n",
    "    \n",
    "    num_train = len(train_data)\n",
    "    indices = list(range(num_train))\n",
    "    split = int(np.floor(args.train_portion * num_train))\n",
    "\n",
    "    _, test_transform = utils._data_transforms_cifar10(args)\n",
    "    test_data = dset.CIFAR10(root=args.data, train=False, download=True, transform=test_transform)\n",
    "\n",
    "    test_queue = torch.utils.data.DataLoader(\n",
    "          test_data, batch_size=args.batch_size, shuffle=False, pin_memory=True)\n",
    "    return test_queue"
   ]
  },
  {
   "cell_type": "code",
   "execution_count": 57,
   "metadata": {},
   "outputs": [],
   "source": [
    "from matplotlib import pyplot as plt\n",
    "%matplotlib inline\n",
    "\n",
    "plt.rcParams['font.family'] = 'serif'\n",
    "plt.rcParams['font.serif'] = 'FreeSerif'\n",
    "plt.rcParams['lines.linewidth'] = 2\n",
    "plt.rcParams['lines.markersize'] = 12\n",
    "plt.rcParams['xtick.labelsize'] = 24\n",
    "plt.rcParams['ytick.labelsize'] = 24\n",
    "plt.rcParams['legend.fontsize'] = 16\n",
    "plt.rcParams['axes.titlesize'] = 36\n",
    "plt.rcParams['axes.labelsize'] = 24\n",
    "\n",
    "class PlotBuilder:\n",
    "    def __init__(self, args, name_x = '', name_y = ''):\n",
    "        self.x_label = name_x\n",
    "        self.y_label = name_y\n",
    "        self.args = args\n",
    "        self.plots = {}\n",
    "    def add_plot(self, name, data):\n",
    "        assert name and len(data) == len(self.args)\n",
    "        self.plots[name] = data\n",
    "    def draw(self, name_graph=''):\n",
    "        plt.figure(figsize=(9, 9))\n",
    "        plt.title(name_graph)\n",
    "        plt.xlabel(self.x_label)\n",
    "        plt.ylabel(self.y_label)\n",
    "        for key in self.plots.keys():\n",
    "            plt.plot(self.args, self.plots[key], label=key)\n",
    "        if len(self.plots.keys()) < 10:\n",
    "            plt.legend()\n",
    "        plt.show()\n",
    "    @staticmethod\n",
    "    def test_case():\n",
    "        bld = PlotBuilder([1,2,3], name_y = 'Very useful class')\n",
    "        bld.add_plot ('Happiness', [0,0.5,3])\n",
    "        bld.add_plot ('Unhappiness', [3, 2.5, 0])\n",
    "        bld.draw()    "
   ]
  },
  {
   "cell_type": "code",
   "execution_count": 25,
   "metadata": {},
   "outputs": [],
   "source": [
    "def model_handle(path_to_model):    \n",
    "    model, criterion = create_model(path_to_model)\n",
    "    test_queue = prepare()\n",
    "    \n",
    "    objs = utils.AvgrageMeter()\n",
    "    top1 = utils.AvgrageMeter()\n",
    "    top5 = utils.AvgrageMeter()\n",
    "    model.eval()\n",
    "\n",
    "    for step, (input, target) in enumerate(test_queue):\n",
    "        input = Variable(input, volatile=True).cuda()\n",
    "        target = Variable(target, volatile=True).cuda(async=True)\n",
    "\n",
    "        logits = model(input)\n",
    "        loss = criterion(logits, target)\n",
    "\n",
    "        prec1, prec5 = utils.accuracy(logits, target, topk=(1, 5))\n",
    "        n = input.size(0)\n",
    "        objs.update(loss.data[0], n)\n",
    "        top1.update(prec1.data[0], n)\n",
    "        top5.update(prec5.data[0], n)\n",
    "\n",
    "        if step % args.report_freq == 0:\n",
    "            logging.info('valid %03d %e %f %f', step, objs.avg, top1.avg, top5.avg)\n",
    "    return prec1,prec5"
   ]
  },
  {
   "cell_type": "code",
   "execution_count": 26,
   "metadata": {},
   "outputs": [],
   "source": [
    "import os\n",
    "from os.path import join as pjoin"
   ]
  },
  {
   "cell_type": "code",
   "execution_count": 41,
   "metadata": {
    "collapsed": true
   },
   "outputs": [
    {
     "name": "stdout",
     "output_type": "stream",
     "text": [
      "['run_1', 'run_2', 'run_0']\n",
      "Processing  ./experiments/exp_strong2/run_1/epoch9\n",
      "Files already downloaded and verified\n",
      "Files already downloaded and verified\n",
      "12/09 01:59:34 AM valid 000 8.503528e-01 73.437500 93.750000\n"
     ]
    },
    {
     "name": "stderr",
     "output_type": "stream",
     "text": [
      "/home/mipt/.local/lib/python3.5/site-packages/ipykernel_launcher.py:11: UserWarning: volatile was removed and now has no effect. Use `with torch.no_grad():` instead.\n",
      "  # This is added back by InteractiveShellApp.init_path()\n",
      "/home/mipt/.local/lib/python3.5/site-packages/ipykernel_launcher.py:12: UserWarning: volatile was removed and now has no effect. Use `with torch.no_grad():` instead.\n",
      "  if sys.path[0] == '':\n",
      "/home/mipt/.local/lib/python3.5/site-packages/ipykernel_launcher.py:19: UserWarning: invalid index of a 0-dim tensor. This will be an error in PyTorch 0.5. Use tensor.item() to convert a 0-dim tensor to a Python number\n",
      "/home/mipt/.local/lib/python3.5/site-packages/ipykernel_launcher.py:20: UserWarning: invalid index of a 0-dim tensor. This will be an error in PyTorch 0.5. Use tensor.item() to convert a 0-dim tensor to a Python number\n",
      "/home/mipt/.local/lib/python3.5/site-packages/ipykernel_launcher.py:21: UserWarning: invalid index of a 0-dim tensor. This will be an error in PyTorch 0.5. Use tensor.item() to convert a 0-dim tensor to a Python number\n"
     ]
    },
    {
     "name": "stdout",
     "output_type": "stream",
     "text": [
      "12/09 01:59:38 AM valid 050 8.164762e-01 70.312500 98.161766\n",
      "12/09 01:59:42 AM valid 100 8.256789e-01 70.327972 98.329208\n",
      "12/09 01:59:45 AM valid 150 8.236826e-01 70.426323 98.261589\n",
      "Processing  ./experiments/exp_strong2/run_2/epoch9\n",
      "Files already downloaded and verified\n",
      "Files already downloaded and verified\n",
      "12/09 01:59:48 AM valid 000 8.426816e-01 71.875000 95.312500\n",
      "12/09 01:59:51 AM valid 050 8.507895e-01 69.944855 98.008583\n",
      "12/09 01:59:55 AM valid 100 8.599198e-01 69.306931 98.081680\n",
      "12/09 01:59:59 AM valid 150 8.520703e-01 69.929634 98.023590\n",
      "Processing  ./experiments/exp_strong2/run_0/epoch9\n",
      "Files already downloaded and verified\n",
      "Files already downloaded and verified\n",
      "12/09 02:00:01 AM valid 000 7.821717e-01 71.875000 95.312500\n",
      "12/09 02:00:05 AM valid 050 8.347169e-01 70.251228 98.100494\n",
      "12/09 02:00:09 AM valid 100 8.365561e-01 70.219681 97.957916\n",
      "12/09 02:00:13 AM valid 150 8.340656e-01 70.457367 98.033943\n",
      "['run_4', 'run_2', 'run_3', '.ipynb_checkpoints']\n",
      "Processing  ./experiments/exp_weak2/run_4/epoch9\n",
      "Files already downloaded and verified\n",
      "Files already downloaded and verified\n",
      "12/09 02:00:15 AM valid 000 8.094774e-01 76.562500 100.000000\n",
      "12/09 02:00:19 AM valid 050 7.292210e-01 74.417892 98.529419\n",
      "12/09 02:00:23 AM valid 100 7.273970e-01 74.365715 98.654083\n",
      "12/09 02:00:27 AM valid 150 7.293726e-01 74.151489 98.644455\n",
      "Processing  ./experiments/exp_weak2/run_2/epoch9\n",
      "Files already downloaded and verified\n",
      "Files already downloaded and verified\n",
      "12/09 02:00:29 AM valid 000 8.220708e-01 71.875000 100.000000\n",
      "12/09 02:00:33 AM valid 050 7.519290e-01 72.886032 98.805153\n",
      "12/09 02:00:37 AM valid 100 7.518695e-01 72.787743 98.654083\n",
      "12/09 02:00:41 AM valid 150 7.424817e-01 73.375412 98.654800\n",
      "Processing  ./experiments/exp_weak2/run_3/epoch9\n",
      "Files already downloaded and verified\n",
      "Files already downloaded and verified\n",
      "12/09 02:00:43 AM valid 000 6.974032e-01 75.000000 98.437500\n",
      "12/09 02:00:47 AM valid 050 7.217162e-01 74.938728 98.560051\n",
      "12/09 02:00:51 AM valid 100 7.210798e-01 74.876236 98.592201\n",
      "12/09 02:00:55 AM valid 150 7.219343e-01 75.020699 98.572021\n",
      "['run_1', 'run_2', 'run_0']\n",
      "Processing  ./experiments/exp_var2/run_1/epoch9\n",
      "Files already downloaded and verified\n",
      "Files already downloaded and verified\n",
      "12/09 02:00:57 AM valid 000 7.780989e-01 73.437500 96.875000\n",
      "12/09 02:01:01 AM valid 050 8.459277e-01 69.852943 97.763481\n",
      "12/09 02:01:05 AM valid 100 8.483323e-01 69.709160 98.004333\n",
      "12/09 02:01:09 AM valid 150 8.555636e-01 69.712334 98.023590\n",
      "Processing  ./experiments/exp_var2/run_2/epoch9\n",
      "Files already downloaded and verified\n",
      "Files already downloaded and verified\n",
      "12/09 02:01:11 AM valid 000 7.753451e-01 75.000000 100.000000\n",
      "12/09 02:01:15 AM valid 050 8.481260e-01 69.883583 97.732849\n",
      "12/09 02:01:19 AM valid 100 8.439402e-01 70.389847 97.942451\n",
      "12/09 02:01:23 AM valid 150 8.371726e-01 70.653976 97.930466\n",
      "Processing  ./experiments/exp_var2/run_0/epoch9\n",
      "Files already downloaded and verified\n",
      "Files already downloaded and verified\n",
      "12/09 02:01:25 AM valid 000 8.969672e-01 68.750000 98.437500\n",
      "12/09 02:01:29 AM valid 050 8.728579e-01 69.454659 97.977943\n",
      "12/09 02:01:33 AM valid 100 8.808707e-01 69.275986 98.066208\n",
      "12/09 02:01:37 AM valid 150 8.804218e-01 69.163910 98.002899\n"
     ]
    }
   ],
   "source": [
    "threshold = 0.1\n",
    "pts_x, pts_y = [], []\n",
    "tops_ms = []\n",
    "for path in model_paths:\n",
    "    subs = os.listdir(path)\n",
    "    print(subs)\n",
    "    tops_rs = []\n",
    "    for subd in subs:\n",
    "        if subd.startswith('run'):\n",
    "     #       cnt+=1\n",
    "            pt = pjoin(pjoin(path, subd),'epoch9')\n",
    "            print('Processing ', pt)\n",
    "            alphas = np.load(pt +'/alphas.npy')\n",
    "            alphas = F.softmax(torch.from_numpy(alphas), dim = -1).numpy()\n",
    "            alphas = np.reshape(alphas, -1)\n",
    "            cnt_over = sum(1 for x in filter(lambda e: (e > threshold), alphas))\n",
    "            top = model_handle(pt)\n",
    "            top = (float(top[0].cpu().numpy()), float(top[1].cpu().numpy()))\n",
    "            tops_rs.append(top)\n",
    "            \n",
    "            pts_x.append(cnt_over)\n",
    "            pts_y.append(top[0]) \n",
    "    tops_ms.append(tops_rs)"
   ]
  },
  {
   "cell_type": "code",
   "execution_count": 42,
   "metadata": {},
   "outputs": [
    {
     "name": "stdout",
     "output_type": "stream",
     "text": [
      "[[(68.75, 100.0), (75.0, 100.0), (81.25, 100.0)], [(56.25, 100.0), (75.0, 100.0), (75.0, 93.75)], [(62.5, 100.0), (62.5, 100.0), (56.25, 100.0)]]\n",
      "[28, 28, 28, 95, 95, 95, 28, 28, 28] [68.75, 75.0, 81.25, 56.25, 75.0, 75.0, 62.5, 62.5, 56.25]\n"
     ]
    }
   ],
   "source": [
    "print(tops_ms)\n",
    "print(pts_x, pts_y)"
   ]
  },
  {
   "cell_type": "code",
   "execution_count": 46,
   "metadata": {},
   "outputs": [
    {
     "name": "stdout",
     "output_type": "stream",
     "text": [
      "[(75.0, 100.0), (68.75, 97.91666666666667), (60.416666666666664, 100.0)]\n"
     ]
    }
   ],
   "source": [
    "avg_tops = []\n",
    "for md_tops in tops_ms:\n",
    "    s_top, cnt = (0,0), len(md_tops) \n",
    "    for run_top in md_tops:\n",
    "        s_top = s_top[0] + run_top[0], s_top[1] + run_top[1]\n",
    "    avg_tops.append((s_top[0] / cnt, s_top[1] / cnt))\n",
    "print(avg_tops)"
   ]
  },
  {
   "cell_type": "code",
   "execution_count": 48,
   "metadata": {},
   "outputs": [
    {
     "data": {
      "text/html": [
       "<div>\n",
       "<style scoped>\n",
       "    .dataframe tbody tr th:only-of-type {\n",
       "        vertical-align: middle;\n",
       "    }\n",
       "\n",
       "    .dataframe tbody tr th {\n",
       "        vertical-align: top;\n",
       "    }\n",
       "\n",
       "    .dataframe thead th {\n",
       "        text-align: right;\n",
       "    }\n",
       "</style>\n",
       "<table border=\"1\" class=\"dataframe\">\n",
       "  <thead>\n",
       "    <tr style=\"text-align: right;\">\n",
       "      <th></th>\n",
       "      <th>experiment</th>\n",
       "      <th>top1 accuracy</th>\n",
       "      <th>top5 accuracy</th>\n",
       "    </tr>\n",
       "  </thead>\n",
       "  <tbody>\n",
       "    <tr>\n",
       "      <th>0</th>\n",
       "      <td>strong</td>\n",
       "      <td>75.000000</td>\n",
       "      <td>100.000000</td>\n",
       "    </tr>\n",
       "    <tr>\n",
       "      <th>1</th>\n",
       "      <td>weak</td>\n",
       "      <td>68.750000</td>\n",
       "      <td>97.916667</td>\n",
       "    </tr>\n",
       "    <tr>\n",
       "      <th>2</th>\n",
       "      <td>variable</td>\n",
       "      <td>60.416667</td>\n",
       "      <td>100.000000</td>\n",
       "    </tr>\n",
       "  </tbody>\n",
       "</table>\n",
       "</div>"
      ],
      "text/plain": [
       "  experiment  top1 accuracy  top5 accuracy\n",
       "0     strong      75.000000     100.000000\n",
       "1       weak      68.750000      97.916667\n",
       "2   variable      60.416667     100.000000"
      ]
     },
     "execution_count": 48,
     "metadata": {},
     "output_type": "execute_result"
    }
   ],
   "source": [
    "rows = [(st, top[0], top[1]) for st, top in zip(exps,avg_tops)]\n",
    "import pandas as pd\n",
    "table = pd.DataFrame(rows, columns=['experiment', 'top1 accuracy', 'top5 accuracy'])\n",
    "table"
   ]
  },
  {
   "cell_type": "code",
   "execution_count": 63,
   "metadata": {},
   "outputs": [
    {
     "data": {
      "image/png": "[encoded data removed]",
      "text/plain": [
       "<Figure size 648x648 with 1 Axes>"
      ]
     },
     "metadata": {
      "needs_background": "light"
     },
     "output_type": "display_data"
    }
   ],
   "source": [
    "import numpy as np \n",
    "\n",
    "pts_x, pts_y = np.load('./pts.npy') \n",
    "plt.figure(figsize=(9, 9))\n",
    "plt.xlabel('Coefficients over 0.1')\n",
    "plt.ylabel('Accuracy')\n",
    "for gr in range(3):\n",
    "    st, fin = gr * 3, (gr + 1) * 3\n",
    "    plt.scatter(pts_x[st:fin], pts_y[st:fin], label = exps[gr])\n",
    "plt.legend()\n",
    "plt.show()"
   ]
  },
  {
   "cell_type": "code",
   "execution_count": null,
   "metadata": {},
   "outputs": [],
   "source": []
  },
  {
   "cell_type": "code",
   "execution_count": 54,
   "metadata": {},
   "outputs": [
    {
     "ename": "TypeError",
     "evalue": "'list' object cannot be interpreted as an integer",
     "output_type": "error",
     "traceback": [
      "\u001b[0;31m---------------------------------------------------------------------------\u001b[0m",
      "\u001b[0;31mTypeError\u001b[0m                                 Traceback (most recent call last)",
      "\u001b[0;32m<ipython-input-54-add996731c91>\u001b[0m in \u001b[0;36m<module>\u001b[0;34m\u001b[0m\n\u001b[0;32m----> 1\u001b[0;31m \u001b[0mnp\u001b[0m\u001b[0;34m.\u001b[0m\u001b[0msave\u001b[0m\u001b[0;34m(\u001b[0m\u001b[0;34m'./pts'\u001b[0m\u001b[0;34m,\u001b[0m \u001b[0mnp\u001b[0m\u001b[0;34m.\u001b[0m\u001b[0mndarray\u001b[0m\u001b[0;34m(\u001b[0m\u001b[0;34m[\u001b[0m\u001b[0mpts_x\u001b[0m\u001b[0;34m,\u001b[0m \u001b[0mpts_y\u001b[0m\u001b[0;34m]\u001b[0m\u001b[0;34m)\u001b[0m\u001b[0;34m)\u001b[0m\u001b[0;34m\u001b[0m\u001b[0m\n\u001b[0m\u001b[1;32m      2\u001b[0m \u001b[0mnp\u001b[0m\u001b[0;34m.\u001b[0m\u001b[0msave\u001b[0m\u001b[0;34m(\u001b[0m\u001b[0;34m'./tops'\u001b[0m\u001b[0;34m,\u001b[0m \u001b[0mnp\u001b[0m\u001b[0;34m.\u001b[0m\u001b[0mndarray\u001b[0m\u001b[0;34m(\u001b[0m\u001b[0;34m[\u001b[0m\u001b[0mtops_ms\u001b[0m\u001b[0;34m]\u001b[0m\u001b[0;34m)\u001b[0m\u001b[0;34m)\u001b[0m\u001b[0;34m\u001b[0m\u001b[0m\n",
      "\u001b[0;31mTypeError\u001b[0m: 'list' object cannot be interpreted as an integer"
     ]
    }
   ],
   "source": [
    "np.save('./pts', np.ndarray([pts_x, pts_y]))\n",
    "np.save('./tops', np.ndarray([tops_ms]))\n",
    "np."
   ]
  },
  {
   "cell_type": "code",
   "execution_count": 11,
   "metadata": {},
   "outputs": [],
   "source": []
  },
  {
   "cell_type": "code",
   "execution_count": 12,
   "metadata": {},
   "outputs": [
    {
     "data": {
      "text/html": [
       "<div>\n",
       "<style scoped>\n",
       "    .dataframe tbody tr th:only-of-type {\n",
       "        vertical-align: middle;\n",
       "    }\n",
       "\n",
       "    .dataframe tbody tr th {\n",
       "        vertical-align: top;\n",
       "    }\n",
       "\n",
       "    .dataframe thead th {\n",
       "        text-align: right;\n",
       "    }\n",
       "</style>\n",
       "<table border=\"1\" class=\"dataframe\">\n",
       "  <thead>\n",
       "    <tr style=\"text-align: right;\">\n",
       "      <th></th>\n",
       "      <th>experiment</th>\n",
       "      <th>top1 accuracy</th>\n",
       "      <th>top5 accuracy</th>\n",
       "    </tr>\n",
       "  </thead>\n",
       "  <tbody>\n",
       "    <tr>\n",
       "      <th>0</th>\n",
       "      <td>strong</td>\n",
       "      <td>81.25</td>\n",
       "      <td>100.0</td>\n",
       "    </tr>\n",
       "    <tr>\n",
       "      <th>1</th>\n",
       "      <td>weak</td>\n",
       "      <td>56.25</td>\n",
       "      <td>100.0</td>\n",
       "    </tr>\n",
       "    <tr>\n",
       "      <th>2</th>\n",
       "      <td>variable</td>\n",
       "      <td>62.50</td>\n",
       "      <td>100.0</td>\n",
       "    </tr>\n",
       "  </tbody>\n",
       "</table>\n",
       "</div>"
      ],
      "text/plain": [
       "  experiment  top1 accuracy  top5 accuracy\n",
       "0     strong          81.25          100.0\n",
       "1       weak          56.25          100.0\n",
       "2   variable          62.50          100.0"
      ]
     },
     "execution_count": 12,
     "metadata": {},
     "output_type": "execute_result"
    }
   ],
   "source": [
    "table"
   ]
  },
  {
   "cell_type": "code",
   "execution_count": null,
   "metadata": {},
   "outputs": [],
   "source": []
  }
 ],
 "metadata": {
  "kernelspec": {
   "display_name": "Python 3",
   "language": "python",
   "name": "python3"
  },
  "language_info": {
   "codemirror_mode": {
    "name": "ipython",
    "version": 3
   },
   "file_extension": ".py",
   "mimetype": "text/x-python",
   "name": "python",
   "nbconvert_exporter": "python",
   "pygments_lexer": "ipython3",
   "version": "3.5.2"
  }
 },
 "nbformat": 4,
 "nbformat_minor": 2
}
